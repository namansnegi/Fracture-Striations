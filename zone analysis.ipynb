{
 "cells": [
  {
   "cell_type": "markdown",
   "metadata": {},
   "source": [
    "# zone by zone analysis"
   ]
  },
  {
   "cell_type": "code",
   "execution_count": 140,
   "metadata": {
    "collapsed": false
   },
   "outputs": [],
   "source": [
    "# this set up the  interactive visualisation mode for graphics.\n",
    "%matplotlib notebook \n",
    "#%matplotlib inline\n",
    "from operator import itemgetter\n",
    "from itertools import groupby\n",
    "import pandas as pd\n",
    "import numpy as np\n",
    "pd.set_option('display.max_rows',7) #only visualise 7 rows when displaying tables\n",
    "from vega import vegalite\n",
    "import vega\n",
    "import matplotlib.pyplot as plt\n",
    "from scipy import ndimage as ndi\n",
    "from skimage import feature\n",
    "from skimage import measure\n",
    "from ipywidgets import interact, interactive, fixed"
   ]
  },
  {
   "cell_type": "markdown",
   "metadata": {},
   "source": [
    "# Deploying the strategy "
   ]
  },
  {
   "cell_type": "code",
   "execution_count": 143,
   "metadata": {
    "collapsed": false
   },
   "outputs": [],
   "source": [
    "def analyse(im):\n",
    "    im  = im[:,:,0]\n",
    "    edges = feature.canny(im,sigma=0.5)\n",
    "    \n",
    "    res=[]\n",
    "    for k in range(edges.shape[1]):\n",
    "        j, = np.where( edges[:,k]==True)\n",
    "        ranges = []\n",
    "        data=j\n",
    "        for key, group in groupby(enumerate(data), lambda i: i[0] - i[1]):\n",
    "            group = list(map(itemgetter(1), group))\n",
    "            if len(group) > 1:\n",
    "                ranges.append(range(group[0], group[-1]))\n",
    "            else:\n",
    "                ranges.append(group[0])## extrapolate the fisrt value to the one just after\n",
    "        res.append(len(ranges)/2)\n",
    "    res = res[0:-1] ## remove the last value wich is always 0 by the algo\n",
    "    res[0] = res[1]\n",
    "    s = pd.Series(res)\n",
    "    r = s.rolling(window=50,center=True,min_periods=3).mean()\n",
    "    df = pd.DataFrame({'Analyse':s, 'Moyenne glissante':r})\n",
    "    return {'im': im, 'edges':edges, 'df':df}\n",
    "\n",
    "def plot_edges(im, edges):\n",
    "    fig, (ax1, ax2) = plt.subplots(nrows=1, ncols=2, sharex=True, sharey=True)\n",
    "    ax1.imshow(im,cmap=plt.cm.gray)\n",
    "    ax2.imshow(edges,cmap=plt.cm.gray)\n",
    "    return fig\n",
    "\n",
    "def plot_analysis(im, edges,r, width=10):\n",
    "    fig, (ax1, ax2, ax3) = plt.subplots(nrows=1, ncols=3, sharex=True, sharey=False, figsize=(width, 4))\n",
    "    ax1.imshow(im,cmap=plt.cm.gray)\n",
    "    ax2.imshow(edges,cmap=plt.cm.gray)\n",
    "    r.plot(ax=ax3)\n",
    "    ymax=max(r)\n",
    "    xmax=r.idxmax(axis=0, skipna=True)\n",
    "    \n",
    "    ax1.set_title('Image originale')\n",
    "    ax1.set_xlabel('x')\n",
    "    ax1.set_ylabel('y')\n",
    "    \n",
    "    ax2.set_title('Edges')\n",
    "    ax2.set_xlabel('x')\n",
    "    ax2.set_ylabel('y')\n",
    "    \n",
    "    ax3.set_ylim(0,ymax+25)\n",
    "    ax3.set_title('Number of Striations')\n",
    "    ax3.set_xlabel('x')\n",
    "    ax3.set_ylabel('nb de stries [-]')\n",
    "    ax3.annotate('Max:', xy=(xmax, ymax), xytext=(xmax, ymax+10),\n",
    "            arrowprops=dict(facecolor='black', shrink=0.05),\n",
    "            )\n",
    "    \n",
    "    return fig"
   ]
  },
  {
   "cell_type": "code",
   "execution_count": 144,
   "metadata": {
    "collapsed": false
   },
   "outputs": [],
   "source": [
    "from PIL import Image\n",
    "import glob\n",
    "image_list = []\n",
    "for filename in glob.glob('samples/*.tif'):\n",
    "    im=plt.imread(filename)\n",
    "    image_list.append(im)\n",
    "    \n",
    "res = [ analyse(x) for x in image_list]"
   ]
  },
  {
   "cell_type": "code",
   "execution_count": 145,
   "metadata": {
    "collapsed": true
   },
   "outputs": [],
   "source": [
    "def browse_samples(images):\n",
    "    n = len(images)\n",
    "    def view_image(i):\n",
    "        fig =plot_analysis(res[i]['im'],res[i]['edges'],res[i]['df']['Moyenne glissante'],width=12)\n",
    "        \n",
    "    interact(view_image, i=(0,n-1))"
   ]
  },
  {
   "cell_type": "code",
   "execution_count": null,
   "metadata": {
    "collapsed": true
   },
   "outputs": [],
   "source": [
    "browse_samples(image_list)"
   ]
  }
 ],
 "metadata": {
  "anaconda-cloud": {},
  "hide_input": false,
  "kernelspec": {
   "display_name": "Python [default]",
   "language": "python",
   "name": "python3"
  },
  "language_info": {
   "codemirror_mode": {
    "name": "ipython",
    "version": 3
   },
   "file_extension": ".py",
   "mimetype": "text/x-python",
   "name": "python",
   "nbconvert_exporter": "python",
   "pygments_lexer": "ipython3",
   "version": "3.5.2"
  }
 },
 "nbformat": 4,
 "nbformat_minor": 0
}
